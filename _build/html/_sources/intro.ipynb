{
 "cells": [
  {
   "cell_type": "markdown",
   "id": "090d0208",
   "metadata": {},
   "source": [
    "# Algebran kertausta\n",
    "\n",
    "\n",
    "1. asteen yhtälö\n",
    "2. asteen yhtälö   \n",
    "3. Lineaarinen malli, suoran yhtälö    \n",
    "4. Paraabeli, 2. asteen polynomimalli\n",
    "5. Potenssiyhtälöt        \n",
    "6. Eksponenttiyhtälöt       \n",
    "7. Verrannollisuus      \n",
    "8. Yhtälöparit      \n",
    "\n",
    "<a href=\"kertaustehtavia.pdf\"> Laskutehtaväkokoelma </a> \n"
   ]
  }
 ],
 "metadata": {
  "kernelspec": {
   "display_name": "Python 3 (ipykernel)",
   "language": "python",
   "name": "python3"
  },
  "language_info": {
   "codemirror_mode": {
    "name": "ipython",
    "version": 3
   },
   "file_extension": ".py",
   "mimetype": "text/x-python",
   "name": "python",
   "nbconvert_exporter": "python",
   "pygments_lexer": "ipython3",
   "version": "3.9.13"
  }
 },
 "nbformat": 4,
 "nbformat_minor": 5
}
