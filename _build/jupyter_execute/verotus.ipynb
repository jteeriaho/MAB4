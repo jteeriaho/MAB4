{
 "cells": [
  {
   "cell_type": "markdown",
   "id": "64e7986e",
   "metadata": {},
   "source": [
    "# Verotus"
   ]
  },
  {
   "cell_type": "markdown",
   "id": "01f76da9",
   "metadata": {},
   "source": [
    "## Verokortti"
   ]
  },
  {
   "cell_type": "markdown",
   "id": "a3a94a53",
   "metadata": {},
   "source": [
    "```{admonition} Prosentin määritelmä\n",
    ":class: tip\n",
    "Verokortti on ohje palkansaajan ansiotulojen verotukselle.  Se sisältää kaksi veroprosenttia: perusprosentin ja \n",
    "lisäprosentin, sekä tulorajan, jonka ylimenevälle osalle käytetään lisäprosenttia.\n",
    "\n",
    "1% = $\\frac {1}{100} = 0.01$ \n",
    "```"
   ]
  },
  {
   "cell_type": "markdown",
   "id": "e1bcfa25",
   "metadata": {},
   "source": [
    "## Tuloveron laskeminen verokirjan tiedoista"
   ]
  },
  {
   "cell_type": "markdown",
   "id": "43ef5997",
   "metadata": {},
   "source": [
    "```{admonition} Maijan verokirjan perusprosentti on 28 ja lisäprosentti on 40. Tuloraja on 3600 eur/kk.  Maija ansaitsee maaliskuussa 4100 euroa.  Kuinka suuri on siitä pidätettävä vero? \n",
    ":class: dropdown    \n",
    "Koska tulot ylittävät tulorajan, tulorajan summasta pidätetään 28% ja ylimenevästä osasta 40%     \n",
    "\n",
    "$vero = 0.28*3600 + 0.40*(4100-3600) = 0.28*3600 + 0.40*500 = 1208 $   \n",
    "\n",
    "Vastaus: Vero on 1208 euroa\n",
    "```"
   ]
  },
  {
   "cell_type": "markdown",
   "id": "575fce58",
   "metadata": {},
   "source": [
    "## Valtionvero on progressiivinen"
   ]
  },
  {
   "cell_type": "markdown",
   "id": "1835ff18",
   "metadata": {},
   "source": [
    "Vuoden 2019 valtionverotaulukko näytti seuraavalta:\n",
    "\n",
    "| verotettava ansiotulo | vero alarajan kohdalla | veroprosentti alarajan ylittävältä osalta |\n",
    "|-----------------------|------------------------|-------------------------------------------|\n",
    "| 17600-26400           | 8                      | 6                                         |\n",
    "| 26400-43500           | 536                    | 17.25                                     |\n",
    "| 43500-76100           | 3486                   | 21.25                                     |\n",
    "| 76100...              | 10413                  | 31.25                                     |"
   ]
  },
  {
   "cell_type": "markdown",
   "id": "d25d84b7",
   "metadata": {},
   "source": [
    "```{admonition} Pekan verotettava tulo oli vuonna 2019 41000 euroa. Laske taulukon perusteella Pekan valtiolle maksama vero kyseisenä vuonna.     \n",
    "\n",
    ":class: dropdown      \n",
    "Pekan tulot ovat luokassa 26400 - 43500. Luokan alarajan suuruisesta osasta veroa menee 536 euroa, ja\n",
    "alarajan ylittävästä osasta 17.25 prosentin mukaan:    \n",
    "\n",
    "Vero on siten $ 536 + 0.175*(41000 - 26400) = 3091$      \n",
    "Pekan valtionvero on siten 3091 euroa vuodessa.\n",
    "```"
   ]
  },
  {
   "cell_type": "markdown",
   "id": "f1af4eaa",
   "metadata": {},
   "source": [
    "### Montako prosenttia a on suurempi kuin b? "
   ]
  },
  {
   "cell_type": "markdown",
   "id": "3ffdd9f4",
   "metadata": {},
   "source": [
    "Tässä vertailuarvona on lukujen erotus ja perusarvona luku b. Ratkaisu: $\\frac {a-b}{b}\\cdot100\\%$"
   ]
  },
  {
   "cell_type": "markdown",
   "id": "33a8867f",
   "metadata": {},
   "source": [
    "```{admonition} Ruotsalaisten keskipalkka on 3680 Eur/kk ja suomalaisten 3570 Eur/kk. Kuinka monta prosenttia ruotsalaisten keskipalkka on suurempi kuin suomalaisten?\n",
    ":class: dropdown\n",
    "$\\frac {3680-3570}{3570}\\cdot100\\% = 3.1\\%$   \n",
    "\n",
    "Vastaus:  3.1%\n",
    "```"
   ]
  },
  {
   "cell_type": "markdown",
   "id": "ebca189b",
   "metadata": {},
   "source": [
    "## Pääomatuloista maksetaan lähes tasaveroa ( jossa on tosin yksi porras)"
   ]
  },
  {
   "cell_type": "markdown",
   "id": "9eec4c2f",
   "metadata": {},
   "source": [
    "**Pääomatuloja ovat mm. vuokratulot, osingot ja korkotuotot**      \n",
    "\n",
    "Pääomaveroprosentti on 30,  kun tulot ovat enintään 30000 vuodessa.      \n",
    "Rajan ylimenevältä osalta prosentti on 34."
   ]
  },
  {
   "cell_type": "markdown",
   "id": "6735bba2",
   "metadata": {},
   "source": [
    "```{admonition} Maijalla oli vuonna 2022 pääomatuloja 45200 euroa. Laske veron suuruus.\n",
    ":class: dropdown\n",
    "$ 0.30*30000 + 0.34*(45200-30000) = 14168 $   \n",
    "\n",
    "Vastaus:  14168 Euroa\n",
    "```"
   ]
  },
  {
   "cell_type": "markdown",
   "id": "ebfa3043",
   "metadata": {},
   "source": [
    "## Nettokorko pankkitalletuksesta  / sijoituksesta"
   ]
  },
  {
   "cell_type": "markdown",
   "id": "05ce1e9b",
   "metadata": {},
   "source": [
    "```{admonition} Nettokorko\n",
    ":class: tip\n",
    "30 prosentin pääomaveroa sovelletaan talletuskorkoihin.      \n",
    "\n",
    "nettokorko = 0.7 * nimellinen korko   \n",
    "\n",
    "Esim. jos talletuskorko olisi 3.0 %, nettokorko olisi \n",
    "$ 0.7*3.0\\% = 2.1\\%$  $ \n",
    "```"
   ]
  },
  {
   "cell_type": "markdown",
   "id": "d61be4d3",
   "metadata": {},
   "source": [
    "## Arvonlisävero eli ALV"
   ]
  },
  {
   "cell_type": "markdown",
   "id": "1a316e0b",
   "metadata": {},
   "source": [
    "```{admonition} Maijan palkkaa korotettiin sopimuskaudella kolme kertaa. Korotukset olivat 3.0%, 2.5% ja 1.5%. Kuinka paljon Maijan palkka nousi yhteensä sopimuskaudella?\n",
    ":class: dropdown\n",
    "Koko sopimuskauden lisäyskerroin on korotuksia vastaavien lisäyskertoimien tulo. \n",
    "$1.03\\cdot1.025\\cdot1.015 = 1.0716$  \n",
    "Tämä vastaan n. 7.2% palkankorotusta   \n",
    "\n",
    "Vastaus:  7.2%\n",
    "```"
   ]
  },
  {
   "cell_type": "markdown",
   "id": "2cc07468",
   "metadata": {},
   "source": [
    "```{admonition} Kiinteistön arvo v.2010 oli 125000 euroa. Mikä oli kiinteistön arvo v.2018, jos oletetaan että arvo nousi tuolla aikavälillä 2.5% vuodessa? \n",
    ":class: dropdown\n",
    "Vuotuinen lisäyskerroin on 1.025. Arvo 8 vuotta vertailuvuoden 2010 jälkeen on    \n",
    "\n",
    "$125000\\cdot1.025^8 = 152300$   \n",
    "\n",
    "Vastaus:  152300 euroa\n",
    "```"
   ]
  },
  {
   "cell_type": "markdown",
   "id": "937795ee",
   "metadata": {},
   "source": [
    "## Lahja- ja perintövero"
   ]
  }
 ],
 "metadata": {
  "jupytext": {
   "cell_metadata_filter": "-all",
   "notebook_metadata_filter": "-all",
   "text_representation": {
    "extension": ".md",
    "format_name": "markdown"
   }
  },
  "kernelspec": {
   "display_name": "Python 3 (ipykernel)",
   "language": "python",
   "name": "python3"
  },
  "language_info": {
   "codemirror_mode": {
    "name": "ipython",
    "version": 3
   },
   "file_extension": ".py",
   "mimetype": "text/x-python",
   "name": "python",
   "nbconvert_exporter": "python",
   "pygments_lexer": "ipython3",
   "version": "3.11.0"
  }
 },
 "nbformat": 4,
 "nbformat_minor": 5
}