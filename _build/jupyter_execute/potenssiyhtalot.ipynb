{
 "cells": [
  {
   "cell_type": "markdown",
   "id": "14e90b83",
   "metadata": {},
   "source": [
    "# Potenssiyhtälöt"
   ]
  },
  {
   "cell_type": "markdown",
   "id": "13be4480",
   "metadata": {},
   "source": [
    "```{admonition} **Potenssiyhtälön perusmuoto**\n",
    ":class: tip\n",
    "$x^n = a$ , missä n on positiivinen kokonaisluku ja a on vakio    \n",
    "\n",
    "Potenssiyhtälön ratkaisu:\n",
    "\n",
    "Jos n on parillinen ja a > 0, ratkaisuja on kaksi:  $x=\\pm \\sqrt[n]{a}$    \n",
    "Jos n on parillinen ja a < 0, yhtälöllä ei ole ratkaisuja       \n",
    "Jos n on pariton, ratkaisuja on yksi: $x=\\sqrt[n]{a}$ riippumatta a:n etumerkistä\n",
    "\n",
    "```"
   ]
  },
  {
   "cell_type": "markdown",
   "id": "95c9c6fb",
   "metadata": {},
   "source": [
    "````{admonition} Esim1. Ratkaise yhtälö $2x^4=7$\n",
    ":class: dropdown\n",
    "Vastaus; $x=\\pm \\sqrt[4]{\\frac{7}{2}}$\n",
    "```{admonition} Yhtälön ratkaisu: \n",
    ":class: dropdown  \n",
    "Jaetaan yhtälö 2:lla, jolloin saadaan perusmuotoinen potenssiyhtälö     \n",
    "$x^4=\\frac {7}{2}$          Ratkaisuja on kaksi:      \n",
    "$x=\\pm \\sqrt[4]{\\frac{7}{2}}$\n",
    "```\n",
    "````"
   ]
  },
  {
   "cell_type": "markdown",
   "id": "ef7b4654",
   "metadata": {},
   "source": [
    "````{admonition} Esim2. Ratkaise yhtälö $ 4x^6+1 = 0$\n",
    ":class: dropdown\n",
    "Vastaus; ei reaalisia ratkaisuja\n",
    "```{admonition} Yhtälön ratkaisu: \n",
    ":class: dropdown  \n",
    "Viedään yhtälö perusmuotoon    \n",
    "\n",
    "$x^4=-\\frac {1}{4}$          \n",
    "Parillinen potenssi ei voi olla negatiivinen, joten yhtälöllä ei ole ratkaisuja. \n",
    "```\n",
    "````"
   ]
  },
  {
   "cell_type": "markdown",
   "id": "f7b60ffc",
   "metadata": {},
   "source": [
    "````{admonition} Esim3. Ratkaise yhtälö $ 3x^5-7 = 0$\n",
    ":class: dropdown\n",
    "Vastaus: $x= \\sqrt[5]{\\frac{7}{3}}$\n",
    "```{admonition} Yhtälön ratkaisu: \n",
    ":class: dropdown  \n",
    "Viedään yhtälö perusmuotoon    \n",
    "\n",
    "$x^5=\\frac {7}{3}$ .  Otetaan 5. juuri molemmista puolista      \n",
    "$x=\\sqrt[5]{\\frac{7}{3}}$       \n",
    "\n",
    "Potenssi on pariton, joten ratkaisuja on vain yksi.\n",
    "```\n",
    "````"
   ]
  },
  {
   "cell_type": "markdown",
   "id": "240d67d4",
   "metadata": {},
   "source": [
    "````{admonition} Esim4. Ratkaise yhtälö $ x^3+10 = 0$\n",
    ":class: dropdown\n",
    "Vastaus: $x= -\\sqrt[3]{10}$\n",
    "```{admonition} Yhtälön ratkaisu: \n",
    ":class: dropdown  \n",
    "Viedään yhtälö perusmuotoon    \n",
    "\n",
    "$x^3=-10$ .  Otetaan kuutiojuuri molemmista puolista      \n",
    "$x=\\sqrt[3]{-10} = - \\sqrt[3]{10}$       \n",
    "\n",
    "Parittoman juuren saa ottaa myös negatiivisesta luvusta. Miinusmerkin saa siirtää juuren etupuolelle.\n",
    "```\n",
    "````"
   ]
  },
  {
   "cell_type": "markdown",
   "id": "7594950c",
   "metadata": {},
   "source": [
    "Linkki: <a href=\"kertaustehtavia.pdf\"> Laskutehtaväkokoelma </a>"
   ]
  }
 ],
 "metadata": {
  "jupytext": {
   "cell_metadata_filter": "-all",
   "notebook_metadata_filter": "-all",
   "text_representation": {
    "extension": ".md",
    "format_name": "markdown"
   }
  },
  "kernelspec": {
   "display_name": "Python 3 (ipykernel)",
   "language": "python",
   "name": "python3"
  },
  "language_info": {
   "codemirror_mode": {
    "name": "ipython",
    "version": 3
   },
   "file_extension": ".py",
   "mimetype": "text/x-python",
   "name": "python",
   "nbconvert_exporter": "python",
   "pygments_lexer": "ipython3",
   "version": "3.11.0"
  }
 },
 "nbformat": 4,
 "nbformat_minor": 5
}